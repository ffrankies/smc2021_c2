{
 "cells": [
  {
   "cell_type": "code",
   "execution_count": 4,
   "id": "1f293237-9297-4d57-8a2f-f97f0930b1d4",
   "metadata": {},
   "outputs": [],
   "source": [
    "import networkx as nx\n",
    "import pandas as pd\n",
    "import matplotlib.pyplot as plt"
   ]
  },
  {
   "cell_type": "code",
   "execution_count": 2,
   "id": "f92c3868-2b72-4290-8e8a-9bfb273508b9",
   "metadata": {},
   "outputs": [
    {
     "name": "stdout",
     "output_type": "stream",
     "text": [
      "(906214, 2)\n",
      "(5331, 2)\n",
      "(900883, 2)\n",
      "(900883, 2)\n",
      "(900881, 2)\n"
     ]
    }
   ],
   "source": [
    "df = pd.read_csv(\"data/edges_cc.csv\")\n",
    "print(df.shape)\n",
    "nandf = df[df.isna().any(axis=1)]\n",
    "print(nandf.shape)\n",
    "df = df.dropna()\n",
    "print(df.shape)\n",
    "df = df[df['src'].apply(lambda x: len(x) == 8)]\n",
    "print(df.shape)\n",
    "df = df[df['dst'].apply(lambda x: len(x) == 8)]\n",
    "print(df.shape)\n",
    "graph = nx.from_pandas_edgelist(df, source='src', target='dst')"
   ]
  },
  {
   "cell_type": "code",
   "execution_count": 3,
   "id": "743d0671-cb69-48c1-b88a-caefa16af440",
   "metadata": {},
   "outputs": [
    {
     "name": "stdout",
     "output_type": "stream",
     "text": [
      "0\n",
      "1\n",
      "3\n",
      "6\n",
      "10\n",
      "15\n",
      "21\n",
      "28\n",
      "36\n",
      "45\n"
     ]
    }
   ],
   "source": [
    "# graph = nx.read_edgelist(\"data/edgelist.csv\", nodetype=str, delimiter=\",\")\n",
    "# graph\n",
    "j = 0\n",
    "for i in range(10):\n",
    "    j += i\n",
    "    print(j)"
   ]
  },
  {
   "cell_type": "code",
   "execution_count": 4,
   "id": "08de783f-c965-49ed-81b8-0d1f4d523a95",
   "metadata": {},
   "outputs": [
    {
     "data": {
      "text/plain": [
       "48779"
      ]
     },
     "execution_count": 4,
     "metadata": {},
     "output_type": "execute_result"
    }
   ],
   "source": [
    "graph.number_of_nodes()"
   ]
  },
  {
   "cell_type": "code",
   "execution_count": 5,
   "id": "0ef4d113-4078-4843-9b4c-0037da09230c",
   "metadata": {},
   "outputs": [
    {
     "data": {
      "text/plain": [
       "311661"
      ]
     },
     "execution_count": 5,
     "metadata": {},
     "output_type": "execute_result"
    }
   ],
   "source": [
    "graph.number_of_edges()"
   ]
  },
  {
   "cell_type": "code",
   "execution_count": 6,
   "id": "dfeba178-01db-403f-97fa-efdd6554f07a",
   "metadata": {},
   "outputs": [],
   "source": [
    "# avg_shortest_path = nx.average_shortest_path_length(graph)\n",
    "# print(avg_shortest_path)"
   ]
  },
  {
   "cell_type": "code",
   "execution_count": 7,
   "id": "9f6de24a-5984-4f75-aa21-f067f1acaa50",
   "metadata": {},
   "outputs": [
    {
     "name": "stdout",
     "output_type": "stream",
     "text": [
      "num ccs =  253\n",
      "average ccs size =  192.80237154150197\n"
     ]
    }
   ],
   "source": [
    "ccs = nx.connected_components(graph)\n",
    "ccs = list(ccs)\n",
    "nccs = len(ccs)\n",
    "print(\"num ccs = \", nccs)\n",
    "print(\"average ccs size = \", graph.number_of_nodes() / nccs)"
   ]
  },
  {
   "cell_type": "code",
   "execution_count": 9,
   "id": "09874903-1311-4275-93f5-737afb4783ee",
   "metadata": {},
   "outputs": [
    {
     "name": "stdout",
     "output_type": "stream",
     "text": [
      "48272\n",
      "310742\n"
     ]
    }
   ],
   "source": [
    "giant = max([graph.subgraph(c).copy() for c in ccs], key=len)\n",
    "giant.remove_edges_from(nx.selfloop_edges(giant))\n",
    "print(giant.number_of_nodes())\n",
    "print(giant.number_of_edges())\n",
    "nx.write_edgelist(giant, \"data/giant.csv\", data=False)"
   ]
  },
  {
   "cell_type": "code",
   "execution_count": 8,
   "id": "523b232c-afbf-49a0-bcee-2acf4c709a4c",
   "metadata": {},
   "outputs": [],
   "source": [
    "# avg_shortest_path = nx.average_shortest_path_length(giant)\n",
    "# print(avg_shortest_path)"
   ]
  },
  {
   "cell_type": "code",
   "execution_count": 41,
   "id": "f5dfdf66-b98d-462f-a5d1-85c3887f25d6",
   "metadata": {},
   "outputs": [
    {
     "name": "stdout",
     "output_type": "stream",
     "text": [
      "Counter({1: 16147, 2: 7919, 3: 4679, 4: 3060, 5: 2295, 6: 1669, 7: 1267, 8: 1104, 9: 863, 10: 697, 11: 612, 12: 531, 13: 453, 14: 410, 15: 355, 17: 324, 16: 324, 21: 247, 18: 247, 19: 243, 20: 212, 23: 175, 22: 175, 24: 170, 27: 136, 25: 135, 26: 127, 28: 124, 30: 111, 29: 110, 32: 93, 33: 90, 31: 90, 36: 86, 34: 84, 35: 82, 38: 80, 37: 78, 39: 63, 40: 61, 42: 58, 44: 57, 41: 56, 52: 52, 43: 51, 47: 50, 45: 50, 54: 49, 48: 47, 53: 42, 46: 39, 61: 35, 59: 35, 55: 35, 49: 35, 57: 34, 50: 32, 51: 29, 60: 27, 69: 26, 63: 26, 62: 26, 56: 26, 75: 25, 67: 25, 58: 25, 68: 24, 66: 24, 65: 24, 86: 22, 76: 22, 74: 22, 73: 22, 77: 21, 100: 20, 72: 20, 71: 20, 64: 20, 88: 19, 87: 19, 82: 19, 90: 18, 84: 17, 104: 16, 95: 16, 92: 16, 81: 16, 80: 16, 78: 16, 70: 16, 83: 15, 94: 14, 91: 14, 89: 14, 85: 14, 79: 14, 142: 13, 128: 13, 109: 13, 112: 12, 102: 12, 97: 12, 114: 11, 113: 11, 101: 11, 93: 11, 126: 10, 120: 10, 167: 9, 137: 9, 135: 9, 130: 9, 122: 9, 110: 9, 185: 8, 154: 8, 150: 8, 138: 8, 121: 8, 119: 8, 118: 8, 105: 8, 99: 8, 98: 8, 96: 8, 303: 7, 181: 7, 177: 7, 145: 7, 132: 7, 125: 7, 117: 7, 106: 7, 190: 6, 170: 6, 160: 6, 149: 6, 131: 6, 116: 6, 103: 6, 242: 5, 234: 5, 232: 5, 231: 5, 211: 5, 199: 5, 195: 5, 192: 5, 171: 5, 164: 5, 159: 5, 155: 5, 152: 5, 148: 5, 147: 5, 146: 5, 143: 5, 141: 5, 140: 5, 136: 5, 134: 5, 133: 5, 127: 5, 123: 5, 115: 5, 111: 5, 400: 4, 331: 4, 321: 4, 267: 4, 261: 4, 258: 4, 250: 4, 210: 4, 207: 4, 193: 4, 189: 4, 163: 4, 161: 4, 153: 4, 151: 4, 139: 4, 129: 4, 108: 4, 444: 3, 420: 3, 349: 3, 339: 3, 298: 3, 286: 3, 278: 3, 272: 3, 251: 3, 248: 3, 246: 3, 235: 3, 217: 3, 215: 3, 213: 3, 206: 3, 205: 3, 203: 3, 202: 3, 201: 3, 179: 3, 176: 3, 174: 3, 172: 3, 168: 3, 162: 3, 158: 3, 156: 3, 124: 3, 107: 3, 957: 2, 669: 2, 666: 2, 640: 2, 562: 2, 546: 2, 501: 2, 474: 2, 448: 2, 443: 2, 433: 2, 422: 2, 421: 2, 417: 2, 414: 2, 377: 2, 371: 2, 370: 2, 364: 2, 360: 2, 357: 2, 347: 2, 345: 2, 341: 2, 323: 2, 313: 2, 310: 2, 305: 2, 302: 2, 292: 2, 287: 2, 284: 2, 282: 2, 281: 2, 277: 2, 275: 2, 274: 2, 270: 2, 265: 2, 263: 2, 257: 2, 255: 2, 253: 2, 237: 2, 233: 2, 230: 2, 228: 2, 226: 2, 225: 2, 224: 2, 214: 2, 212: 2, 198: 2, 197: 2, 191: 2, 186: 2, 184: 2, 183: 2, 182: 2, 180: 2, 178: 2, 175: 2, 169: 2, 165: 2, 157: 2, 12771: 1, 6136: 1, 3366: 1, 2799: 1, 2773: 1, 2509: 1, 2046: 1, 1825: 1, 1772: 1, 1606: 1, 1574: 1, 1573: 1, 1503: 1, 1476: 1, 1463: 1, 1426: 1, 1396: 1, 1276: 1, 1258: 1, 1253: 1, 1244: 1, 1179: 1, 1164: 1, 1161: 1, 1147: 1, 1133: 1, 1117: 1, 1073: 1, 1049: 1, 1015: 1, 996: 1, 987: 1, 983: 1, 971: 1, 969: 1, 945: 1, 943: 1, 942: 1, 933: 1, 881: 1, 867: 1, 861: 1, 850: 1, 846: 1, 843: 1, 837: 1, 833: 1, 831: 1, 826: 1, 814: 1, 803: 1, 783: 1, 782: 1, 781: 1, 760: 1, 753: 1, 750: 1, 746: 1, 738: 1, 724: 1, 716: 1, 713: 1, 711: 1, 700: 1, 684: 1, 679: 1, 675: 1, 671: 1, 662: 1, 658: 1, 654: 1, 644: 1, 635: 1, 634: 1, 627: 1, 619: 1, 604: 1, 603: 1, 595: 1, 586: 1, 585: 1, 564: 1, 561: 1, 548: 1, 538: 1, 530: 1, 517: 1, 509: 1, 508: 1, 504: 1, 503: 1, 502: 1, 497: 1, 496: 1, 495: 1, 490: 1, 486: 1, 483: 1, 481: 1, 478: 1, 476: 1, 475: 1, 470: 1, 469: 1, 467: 1, 463: 1, 461: 1, 460: 1, 457: 1, 456: 1, 447: 1, 441: 1, 436: 1, 435: 1, 430: 1, 427: 1, 426: 1, 418: 1, 416: 1, 415: 1, 412: 1, 411: 1, 406: 1, 404: 1, 394: 1, 391: 1, 388: 1, 385: 1, 382: 1, 380: 1, 376: 1, 375: 1, 374: 1, 369: 1, 368: 1, 366: 1, 365: 1, 359: 1, 356: 1, 352: 1, 344: 1, 342: 1, 338: 1, 336: 1, 335: 1, 333: 1, 329: 1, 326: 1, 325: 1, 324: 1, 319: 1, 316: 1, 315: 1, 308: 1, 307: 1, 300: 1, 299: 1, 297: 1, 296: 1, 295: 1, 293: 1, 291: 1, 290: 1, 288: 1, 285: 1, 283: 1, 280: 1, 279: 1, 276: 1, 273: 1, 271: 1, 269: 1, 262: 1, 259: 1, 256: 1, 252: 1, 249: 1, 247: 1, 245: 1, 243: 1, 241: 1, 239: 1, 238: 1, 236: 1, 229: 1, 227: 1, 223: 1, 221: 1, 220: 1, 219: 1, 216: 1, 209: 1, 204: 1, 200: 1, 196: 1, 194: 1, 188: 1, 187: 1, 173: 1, 166: 1, 144: 1})\n",
      "12771\n",
      "16147\n"
     ]
    },
    {
     "data": {
      "text/plain": [
       "Text(0.5, 0, 'Degree')"
      ]
     },
     "execution_count": 41,
     "metadata": {},
     "output_type": "execute_result"
    },
    {
     "data": {
      "image/png": "[encoded data removed]",
      "text/plain": [
       "<Figure size 720x720 with 1 Axes>"
      ]
     },
     "metadata": {
      "needs_background": "light"
     },
     "output_type": "display_data"
    }
   ],
   "source": [
    "import collections\n",
    "import matplotlib.pyplot as plt\n",
    "degree_sequence = sorted([d for n, d in giant.degree()], reverse=True)  # degree sequence\n",
    "degreeCount = collections.Counter(degree_sequence)\n",
    "deg, cnt = zip(*degreeCount.items())\n",
    "print(degreeCount)\n",
    "print(max(deg))\n",
    "print(max(cnt))\n",
    "\n",
    "fig, ax = plt.subplots(figsize=(10,10))\n",
    "plt.xscale(\"log\")\n",
    "plt.plot(deg, cnt)  # , width=2.0, color=\"b\")\n",
    "# ax.set_xticklabels([0, 1000, 2000, 3000, 4000])\n",
    "plt.title(\"Degree Distribution\")\n",
    "plt.ylabel(\"Count\")\n",
    "plt.xlabel(\"Degree\")\n",
    "# ax.set_xticks([d + 0.4 for d in deg])\n",
    "# # ax.set_xticklabels(deg)\n",
    "# plt.show()"
   ]
  },
  {
   "cell_type": "code",
   "execution_count": 11,
   "id": "ee468203-0a87-4546-b242-1863a77b427b",
   "metadata": {},
   "outputs": [
    {
     "data": {
      "text/plain": [
       "'C5203676'"
      ]
     },
     "execution_count": 11,
     "metadata": {},
     "output_type": "execute_result"
    }
   ],
   "source": [
    "v = list(giant)[0]\n",
    "v"
   ]
  },
  {
   "cell_type": "code",
   "execution_count": 12,
   "id": "3003aac6-1634-4dbd-9277-6002b07bc48c",
   "metadata": {},
   "outputs": [],
   "source": [
    "# sps = nx.shortest_path_length(giant, source=v)\n",
    "# maxkey = max(sps, key=sps.get)\n",
    "# print(maxkey, sps[maxkey])"
   ]
  },
  {
   "cell_type": "code",
   "execution_count": 13,
   "id": "80395f92-fa98-4b2c-a3aa-e3ae9f7c1ae1",
   "metadata": {},
   "outputs": [],
   "source": [
    "# vertices = list(giant)\n",
    "# # for v1 in range(giant.number_of_nodes()):\n",
    "# with open(\"data/shortest_paths.csv\", mode=\"w\") as spsfile:\n",
    "#     spsfile.write(\"src,dst,length\\n\")\n",
    "#     for v1 in range(giant.number_of_nodes()):\n",
    "# #     for v1 in range(5):\n",
    "#         vid = vertices[v1]\n",
    "#         sps = nx.shortest_path_length(giant, source=vid)\n",
    "#         for key, value in sps.items():\n",
    "#             if value <= 1:  # only store non-neighbors and non-self\n",
    "#                 continue\n",
    "#             spsfile.write(\"{0},{1},{2}\\n\".format(vid, key, value))\n",
    "#         maxkey = max(sps, key=sps.get)\n",
    "#         if v1 % 1000 == 0:\n",
    "#             print(\"{0} / {1}\".format(v1, giant.number_of_nodes()))\n",
    "#     #     print(maxkey, sps[maxkey])"
   ]
  },
  {
   "cell_type": "code",
   "execution_count": 42,
   "id": "4802f7fd-4325-46f3-ae48-a8690ef0dd0c",
   "metadata": {},
   "outputs": [
    {
     "name": "stdout",
     "output_type": "stream",
     "text": [
      "(900881, 2)\n",
      "(900881, 2)\n",
      "(900881, 2)\n"
     ]
    }
   ],
   "source": [
    "print(df.shape)\n",
    "print(df[df['src'].apply(lambda x: len(x) == 8)].shape)\n",
    "print(df[df['dst'].apply(lambda x: len(x) == 8)].shape)"
   ]
  },
  {
   "cell_type": "code",
   "execution_count": 15,
   "id": "c6a6ea92-7fbd-44e2-bc1a-e0f09686cfe2",
   "metadata": {},
   "outputs": [
    {
     "ename": "KeyboardInterrupt",
     "evalue": "",
     "output_type": "error",
     "traceback": [
      "\u001b[0;31m---------------------------------------------------------------------------\u001b[0m",
      "\u001b[0;31mKeyboardInterrupt\u001b[0m                         Traceback (most recent call last)",
      "\u001b[0;32m/tmp/ipykernel_89/4205337374.py\u001b[0m in \u001b[0;36m<module>\u001b[0;34m\u001b[0m\n\u001b[1;32m      9\u001b[0m \u001b[0;32mwhile\u001b[0m \u001b[0mnum_removed\u001b[0m \u001b[0;34m<\u001b[0m \u001b[0mnum_edges_to_remove\u001b[0m\u001b[0;34m:\u001b[0m\u001b[0;34m\u001b[0m\u001b[0;34m\u001b[0m\u001b[0m\n\u001b[1;32m     10\u001b[0m \u001b[0;31m# for edge in range(num_edges_to_remove):\u001b[0m\u001b[0;34m\u001b[0m\u001b[0;34m\u001b[0m\u001b[0;34m\u001b[0m\u001b[0m\n\u001b[0;32m---> 11\u001b[0;31m     \u001b[0medges\u001b[0m \u001b[0;34m=\u001b[0m \u001b[0mlist\u001b[0m\u001b[0;34m(\u001b[0m\u001b[0mmodified_giant\u001b[0m\u001b[0;34m.\u001b[0m\u001b[0medges\u001b[0m\u001b[0;34m(\u001b[0m\u001b[0;34m)\u001b[0m\u001b[0;34m)\u001b[0m\u001b[0;34m\u001b[0m\u001b[0;34m\u001b[0m\u001b[0m\n\u001b[0m\u001b[1;32m     12\u001b[0m     \u001b[0mu\u001b[0m\u001b[0;34m,\u001b[0m \u001b[0mv\u001b[0m \u001b[0;34m=\u001b[0m \u001b[0mrandom\u001b[0m\u001b[0;34m.\u001b[0m\u001b[0mchoice\u001b[0m\u001b[0;34m(\u001b[0m\u001b[0medges\u001b[0m\u001b[0;34m)\u001b[0m\u001b[0;34m\u001b[0m\u001b[0;34m\u001b[0m\u001b[0m\n\u001b[1;32m     13\u001b[0m     \u001b[0;32mif\u001b[0m \u001b[0mmodified_giant\u001b[0m\u001b[0;34m.\u001b[0m\u001b[0mdegree\u001b[0m\u001b[0;34m[\u001b[0m\u001b[0mu\u001b[0m\u001b[0;34m]\u001b[0m \u001b[0;34m<\u001b[0m \u001b[0;36m2\u001b[0m \u001b[0;32mor\u001b[0m \u001b[0mmodified_giant\u001b[0m\u001b[0;34m.\u001b[0m\u001b[0mdegree\u001b[0m\u001b[0;34m[\u001b[0m\u001b[0mv\u001b[0m\u001b[0;34m]\u001b[0m \u001b[0;34m<\u001b[0m \u001b[0;36m2\u001b[0m\u001b[0;34m:\u001b[0m\u001b[0;34m\u001b[0m\u001b[0;34m\u001b[0m\u001b[0m\n",
      "\u001b[0;32m/opt/conda/lib/python3.8/site-packages/networkx/classes/reportviews.py\u001b[0m in \u001b[0;36m__iter__\u001b[0;34m(self)\u001b[0m\n\u001b[1;32m   1116\u001b[0m     \u001b[0;32mdef\u001b[0m \u001b[0m__iter__\u001b[0m\u001b[0;34m(\u001b[0m\u001b[0mself\u001b[0m\u001b[0;34m)\u001b[0m\u001b[0;34m:\u001b[0m\u001b[0;34m\u001b[0m\u001b[0;34m\u001b[0m\u001b[0m\n\u001b[1;32m   1117\u001b[0m         \u001b[0mseen\u001b[0m \u001b[0;34m=\u001b[0m \u001b[0;34m{\u001b[0m\u001b[0;34m}\u001b[0m\u001b[0;34m\u001b[0m\u001b[0;34m\u001b[0m\u001b[0m\n\u001b[0;32m-> 1118\u001b[0;31m         \u001b[0;32mfor\u001b[0m \u001b[0mn\u001b[0m\u001b[0;34m,\u001b[0m \u001b[0mnbrs\u001b[0m \u001b[0;32min\u001b[0m \u001b[0mself\u001b[0m\u001b[0;34m.\u001b[0m\u001b[0m_nodes_nbrs\u001b[0m\u001b[0;34m(\u001b[0m\u001b[0;34m)\u001b[0m\u001b[0;34m:\u001b[0m\u001b[0;34m\u001b[0m\u001b[0;34m\u001b[0m\u001b[0m\n\u001b[0m\u001b[1;32m   1119\u001b[0m             \u001b[0;32mfor\u001b[0m \u001b[0mnbr\u001b[0m \u001b[0;32min\u001b[0m \u001b[0mlist\u001b[0m\u001b[0;34m(\u001b[0m\u001b[0mnbrs\u001b[0m\u001b[0;34m)\u001b[0m\u001b[0;34m:\u001b[0m\u001b[0;34m\u001b[0m\u001b[0;34m\u001b[0m\u001b[0m\n\u001b[1;32m   1120\u001b[0m                 \u001b[0;32mif\u001b[0m \u001b[0mnbr\u001b[0m \u001b[0;32mnot\u001b[0m \u001b[0;32min\u001b[0m \u001b[0mseen\u001b[0m\u001b[0;34m:\u001b[0m\u001b[0;34m\u001b[0m\u001b[0;34m\u001b[0m\u001b[0m\n",
      "\u001b[0;31mKeyboardInterrupt\u001b[0m: "
     ]
    }
   ],
   "source": [
    "# DO NOT USE - old implementation. Commented out so as to not overwrite previous graph\n",
    "# import random\n",
    "\n",
    "# missing_graph = nx.Graph()\n",
    "\n",
    "# percent_edges_to_remove = 0.2  # remove 20% of edges\n",
    "# num_edges_to_remove = int(0.2 * giant.number_of_edges())\n",
    "# modified_giant = giant.copy()\n",
    "# num_removed = 0\n",
    "# while num_removed < num_edges_to_remove:\n",
    "# # for edge in range(num_edges_to_remove):\n",
    "#     edges = list(modified_giant.edges())\n",
    "#     u, v = random.choice(edges)\n",
    "#     if modified_giant.degree[u] < 2 or modified_giant.degree[v] < 2:\n",
    "#         continue\n",
    "#     modified_giant.remove_edge(u, v)\n",
    "#     missing_graph.add_edge(u, v)\n",
    "#     num_removed += 1\n",
    "\n",
    "# nx.write_edgelist(modified_giant, \"data/modified_giant.csv\", data=False)\n",
    "# nx.write_edgelist(missing_graph, \"data/missing_edges.csv\", data=False)"
   ]
  },
  {
   "cell_type": "code",
   "execution_count": 27,
   "id": "dc8068af-a691-4d8a-a1a9-7eb356cb817b",
   "metadata": {},
   "outputs": [],
   "source": [
    "# DO NOT USE - old implementation. Commented out so as to not overwrite previous graph\n",
    "\n",
    "# import random\n",
    "\n",
    "# missing_graph = nx.Graph()\n",
    "\n",
    "# percent_edges_to_remove = 0.2  # remove 20% of edges\n",
    "# num_edges_to_remove = int(percent_edges_to_remove * giant.number_of_edges())\n",
    "# modified_giant = giant.copy()\n",
    "# num_removed = 0\n",
    "# high_degree_vertices = list()\n",
    "# for vertex in modified_giant.nodes:\n",
    "#     if modified_giant.degree[vertex] > 1:\n",
    "#         high_degree_vertices.append(vertex)\n",
    "# # if len(high_degree_vertices) < num_edges_to_remove:\n",
    "# #     print(\"high_degree_vertices = \", len(high_degree_vertices))\n",
    "# #     print(\"num edges to remove = \", num_edges_to_remove)\n",
    "# #     raise ValueError\n",
    "\n",
    "# while num_removed < num_edges_to_remove:\n",
    "#     src = random.choice(high_degree_vertices)\n",
    "#     dsts = list()\n",
    "#     for neighbor in modified_giant.neighbors(src):\n",
    "#         if modified_giant.degree[neighbor] > 1:\n",
    "#             dsts.append(neighbor)\n",
    "#     if len(dsts) == 0:\n",
    "#         high_degree_vertices.remove(src)\n",
    "#         continue\n",
    "#     dst = random.choice(dsts)\n",
    "#     modified_giant.remove_edge(src, dst)\n",
    "#     missing_graph.add_edge(src, dst)\n",
    "#     num_removed += 1\n",
    "#     if len(high_degree_vertices) < 2:\n",
    "#         print(\"Ran out of high degree vertices\")\n",
    "#         print(\"Number of removed edges = \", missing_graph.number_of_edges())\n",
    "#         break\n",
    "    \n",
    "# #     edges = list(modified_giant.edges())\n",
    "# #     u, v = random.choice(edges)\n",
    "# #     if modified_giant.degree[u] < 2 or modified_giant.degree[v] < 2:\n",
    "# #         continue\n",
    "# #     modified_giant.remove_edge(u, v)\n",
    "# #     missing_graph.add_edge(u, v)\n",
    "# #     num_removed += 1\n",
    "\n",
    "# nx.write_edgelist(modified_giant, \"data/modified_giant.csv\", data=False)\n",
    "# nx.write_edgelist(missing_graph, \"data/missing_edges.csv\", data=False)"
   ]
  },
  {
   "cell_type": "code",
   "execution_count": 43,
   "id": "1a2a2640-39b3-42b4-8600-c45dff4dcc7e",
   "metadata": {},
   "outputs": [
    {
     "name": "stdout",
     "output_type": "stream",
     "text": [
      "num edges to remove =  62148\n",
      "num possible edges =  262471\n",
      "got edges to be removed\n"
     ]
    }
   ],
   "source": [
    "# Commented out so as to not overwrite previous graph\n",
    "# import random\n",
    "\n",
    "# missing_graph = nx.Graph()\n",
    "\n",
    "# percent_edges_to_remove = 0.2  # remove 20% of edges\n",
    "# num_edges_to_remove = int(percent_edges_to_remove * giant.number_of_edges())\n",
    "# modified_giant = giant.copy()\n",
    "# num_removed = 0\n",
    "\n",
    "# mst = nx.minimum_spanning_tree(giant)\n",
    "# possible_edges = nx.difference(giant, mst)  # this graph contains edges that can safely be removed\n",
    "# print(\"num edges to remove = \", num_edges_to_remove)\n",
    "# print(\"num possible edges = \", possible_edges.number_of_edges())\n",
    "\n",
    "# # for i in range(num_edges_to_remove):\n",
    "# edges = list(possible_edges.edges())\n",
    "# edges_to_remove = random.sample(edges, k=num_edges_to_remove)\n",
    "# print(\"got edges to be removed\")\n",
    "# for u, v in edges_to_remove:\n",
    "#     modified_giant.remove_edge(u, v)\n",
    "# #     possible_edges.remove_edge(u, v)\n",
    "#     missing_graph.add_edge(u, v)\n",
    "# #     num_removed += 1\n",
    "\n",
    "# nx.write_edgelist(modified_giant, \"data/modified_giant.csv\", data=False)\n",
    "# nx.write_edgelist(missing_graph, \"data/missing_edges.csv\", data=False)"
   ]
  },
  {
   "cell_type": "code",
   "execution_count": 5,
   "id": "2fa3e7cc-d1a8-403a-b6be-1d561f59f2ea",
   "metadata": {},
   "outputs": [
    {
     "name": "stdout",
     "output_type": "stream",
     "text": [
      "48272 248594\n",
      "19684 62148\n",
      "min =  2  max =  6\n"
     ]
    },
    {
     "data": {
      "image/png": "[encoded data removed]",
      "text/plain": [
       "<Figure size 720x720 with 1 Axes>"
      ]
     },
     "metadata": {
      "needs_background": "light"
     },
     "output_type": "display_data"
    }
   ],
   "source": [
    "modified_giant = nx.read_edgelist(\"data/modified_giant.csv\")\n",
    "missing_graph = nx.read_edgelist(\"data/missing_edges.csv\")\n",
    "from collections import Counter\n",
    "print(modified_giant.number_of_nodes(), modified_giant.number_of_edges())\n",
    "print(missing_graph.number_of_nodes(), missing_graph.number_of_edges())\n",
    "sssps = list()\n",
    "for src, dst in missing_graph.edges:\n",
    "    path = nx.shortest_path(modified_giant, source=src, target=dst)\n",
    "    sssps.append((src, dst, len(path) - 1))  # num edges = num vertices - 1 (a -> b -> c == 2 edges but 3 vertices)\n",
    "pathlengths = Counter([x[2] for x in sssps])\n",
    "# fig, ax = plt.subplots(figsize=(10,10))\n",
    "# plt.xscale(\"log\")\n",
    "# plt.plot(deg, cnt)  # , width=2.0, color=\"b\")\n",
    "# # ax.set_xticklabels([0, 1000, 2000, 3000, 4000])\n",
    "# plt.title(\"Path Lengths\")\n",
    "# plt.ylabel(\"Count\")\n",
    "# plt.xlabel(\"Path Length\")\n",
    "# print(pathlengths[:50])\n",
    "fig, ax = plt.subplots(figsize=(10,10))\n",
    "plt.yscale(\"log\")\n",
    "plt.bar(pathlengths.keys(), pathlengths.values())  # , bins=20, histtype='stepfilled', log=False)\n",
    "print(\"min = \", min(pathlengths), \" max = \", max(pathlengths))"
   ]
  },
  {
   "cell_type": "code",
   "execution_count": 9,
   "id": "4cf10510-4dc3-44b0-9c8a-ceca7e351c3a",
   "metadata": {},
   "outputs": [
    {
     "data": {
      "text/plain": [
       "0.1644139795327283"
      ]
     },
     "execution_count": 9,
     "metadata": {},
     "output_type": "execute_result"
    }
   ],
   "source": [
    "1 - (pathlengths[2] / missing_graph.number_of_edges())"
   ]
  },
  {
   "cell_type": "code",
   "execution_count": null,
   "id": "ff40b2e9-bbf7-4e3b-a067-5f38317e9977",
   "metadata": {},
   "outputs": [],
   "source": [
    "# why is deployment on supercomputers important?\n",
    "# what we deployed?\n",
    "# evaluation criteria"
   ]
  }
 ],
 "metadata": {
  "kernelspec": {
   "display_name": "OLCF-base (ipykernel)",
   "language": "python",
   "name": "python3"
  },
  "language_info": {
   "codemirror_mode": {
    "name": "ipython",
    "version": 3
   },
   "file_extension": ".py",
   "mimetype": "text/x-python",
   "name": "python",
   "nbconvert_exporter": "python",
   "pygments_lexer": "ipython3",
   "version": "3.8.10"
  }
 },
 "nbformat": 4,
 "nbformat_minor": 5
}
